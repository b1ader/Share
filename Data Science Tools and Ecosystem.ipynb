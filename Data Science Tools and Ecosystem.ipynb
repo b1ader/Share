{
 "cells": [
  {
   "cell_type": "markdown",
   "id": "ffe3aea7-b747-4909-ad06-345c327e76dc",
   "metadata": {},
   "source": [
    "#Data Science Tools and Ecosystem"
   ]
  },
  {
   "cell_type": "markdown",
   "id": "227de35e-5bb9-4539-9ae8-14c7a380810d",
   "metadata": {},
   "source": [
    "In this notebook, Data Science Tools and Ecosystem are summarized."
   ]
  },
  {
   "cell_type": "markdown",
   "id": "f6173250-cc9b-4f82-8b2a-29e6e558f35d",
   "metadata": {},
   "source": [
    "**Objectives:**\n",
    "* popular languages that Data Scientist use\n",
    "* libraries used by Data Scientists\n",
    "* Data Science Tools"
   ]
  },
  {
   "cell_type": "markdown",
   "id": "be51714b-4ba2-4a15-b25d-4b75c1238865",
   "metadata": {},
   "source": [
    "Some of the popular languages that Data Scientist use are:\n",
    "1. python\n",
    "1. C#/C++\n",
    "1. Julia"
   ]
  },
  {
   "cell_type": "markdown",
   "id": "8e723f02-fc47-422a-9acf-1229791127b7",
   "metadata": {},
   "source": [
    "Some of the commonly used libraries used by Data Scientists include: \n",
    "1. NumPy\n",
    "1. Pandas\n",
    "1. tensorFlow"
   ]
  },
  {
   "cell_type": "markdown",
   "id": "5120ae47-e495-4426-83b2-b26fffa1801d",
   "metadata": {
    "tags": []
   },
   "source": [
    "| Data Science Tools |\n",
    "| --- |\n",
    "| Jupyter |\n",
    "| Hadoop |\n",
    "| Python |"
   ]
  },
  {
   "cell_type": "markdown",
   "id": "97fef88d-3728-4916-9a14-e6748701f0d2",
   "metadata": {},
   "source": [
    "###Below are a few examples of evaluating arithmetic expressions in Python"
   ]
  },
  {
   "cell_type": "code",
   "execution_count": 2,
   "id": "e88ba613-a755-4b5e-8c28-a88c80b6f764",
   "metadata": {},
   "outputs": [
    {
     "data": {
      "text/plain": [
       "17"
      ]
     },
     "execution_count": 2,
     "metadata": {},
     "output_type": "execute_result"
    }
   ],
   "source": [
    "# this a simple arithmetic expression to multiply then add integers\n",
    "(3*4)+5"
   ]
  },
  {
   "cell_type": "code",
   "execution_count": 3,
   "id": "8cdcd595-37f5-45d3-a524-4e8d5e882dbd",
   "metadata": {},
   "outputs": [
    {
     "data": {
      "text/plain": [
       "3.3333333333333335"
      ]
     },
     "execution_count": 3,
     "metadata": {},
     "output_type": "execute_result"
    }
   ],
   "source": [
    "# this will convert 200 minutes to hours by dividing by 60\n",
    "(200 / 60)"
   ]
  },
  {
   "cell_type": "markdown",
   "id": "b9d378b0-6920-47bb-b9e3-9afa89925510",
   "metadata": {},
   "source": [
    "<h2>Author</h2>  \n",
    "bader\n"
   ]
  },
  {
   "cell_type": "code",
   "execution_count": null,
   "id": "a9e8c2b2-8422-4126-8e0c-9d7d73da06b8",
   "metadata": {},
   "outputs": [],
   "source": []
  }
 ],
 "metadata": {
  "kernelspec": {
   "display_name": "Python",
   "language": "python",
   "name": "conda-env-python-py"
  },
  "language_info": {
   "codemirror_mode": {
    "name": "ipython",
    "version": 3
   },
   "file_extension": ".py",
   "mimetype": "text/x-python",
   "name": "python",
   "nbconvert_exporter": "python",
   "pygments_lexer": "ipython3",
   "version": "3.7.12"
  }
 },
 "nbformat": 4,
 "nbformat_minor": 5
}
